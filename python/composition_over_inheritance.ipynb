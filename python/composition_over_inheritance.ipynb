{
 "cells": [
  {
   "cell_type": "markdown",
   "metadata": {},
   "source": [
    "### The composition over inheritance principle "
   ]
  },
  {
   "cell_type": "code",
   "execution_count": 1,
   "metadata": {},
   "outputs": [],
   "source": [
    "# imports \n",
    "import sys\n",
    "import syslog"
   ]
  },
  {
   "cell_type": "code",
   "execution_count": 9,
   "metadata": {},
   "outputs": [
    {
     "name": "stdout",
     "output_type": "stream",
     "text": [
      "Error: but you want to see this\n"
     ]
    }
   ],
   "source": [
    "# initial class\n",
    "class Logger(object):\n",
    "    def __init__(self, file):\n",
    "        self.file = file\n",
    "    \n",
    "    def log(self, message):\n",
    "        self.file.write(message + '\\n')\n",
    "        self.file.flush()\n",
    "\n",
    "# now, we need two more classes that send message to elsewhere\n",
    "\n",
    "class SocketLogger(Logger):\n",
    "    def __init__(self, sock):\n",
    "        self.sock = sock\n",
    "    \n",
    "    def log(self, message):\n",
    "        self.sock.sendall(message + '\\n').encode('ascii')\n",
    "\n",
    "class SyslogLogger(Logger):\n",
    "    def __init__(self, priority):\n",
    "        self.priority = priority\n",
    "    \n",
    "    def log(self, message):\n",
    "        syslog.syslog(self.priority, message)\n",
    "\n",
    "# Now if we want to add filters, we can create a filtered logger creating a new subclass\n",
    "\n",
    "class FilteredLogger(Logger):\n",
    "    def __init__(self, pattern, file):\n",
    "        self.pattern = pattern\n",
    "        super().__init__(file)\n",
    "    \n",
    "    def log(self, message):\n",
    "        if self.pattern in message:\n",
    "            super().log(message)\n",
    "\n",
    "# call filtered logger\n",
    "f = FilteredLogger('Error', sys.stdout)\n",
    "f.log('Ignored: this is not important')\n",
    "f.log('Error: but you want to see this')"
   ]
  },
  {
   "cell_type": "code",
   "execution_count": null,
   "metadata": {},
   "outputs": [],
   "source": []
  }
 ],
 "metadata": {
  "kernelspec": {
   "display_name": "Python 3.9.13 ('nn')",
   "language": "python",
   "name": "python3"
  },
  "language_info": {
   "codemirror_mode": {
    "name": "ipython",
    "version": 3
   },
   "file_extension": ".py",
   "mimetype": "text/x-python",
   "name": "python",
   "nbconvert_exporter": "python",
   "pygments_lexer": "ipython3",
   "version": "3.9.13"
  },
  "orig_nbformat": 4,
  "vscode": {
   "interpreter": {
    "hash": "281fcde91fb88b4c837c416e9cdf243b135f0122883c16601caefb6ba2ef0a76"
   }
  }
 },
 "nbformat": 4,
 "nbformat_minor": 2
}
