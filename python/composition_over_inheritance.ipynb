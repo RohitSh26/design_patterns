{
 "cells": [
  {
   "cell_type": "markdown",
   "metadata": {},
   "source": [
    "# The composition over inheritance principle "
   ]
  },
  {
   "cell_type": "code",
   "execution_count": 1,
   "metadata": {},
   "outputs": [],
   "source": [
    "# imports \n",
    "import sys\n",
    "import syslog"
   ]
  },
  {
   "cell_type": "code",
   "execution_count": 9,
   "metadata": {},
   "outputs": [
    {
     "name": "stdout",
     "output_type": "stream",
     "text": [
      "Error: but you want to see this\n"
     ]
    }
   ],
   "source": [
    "# initial class\n",
    "class Logger(object):\n",
    "    def __init__(self, file):\n",
    "        self.file = file\n",
    "    \n",
    "    def log(self, message):\n",
    "        self.file.write(message + '\\n')\n",
    "        self.file.flush()\n",
    "\n",
    "# now, we need two more classes that send message to elsewhere\n",
    "\n",
    "class SocketLogger(Logger):\n",
    "    def __init__(self, sock):\n",
    "        self.sock = sock\n",
    "    \n",
    "    def log(self, message):\n",
    "        self.sock.sendall(message + '\\n').encode('ascii')\n",
    "\n",
    "class SyslogLogger(Logger):\n",
    "    def __init__(self, priority):\n",
    "        self.priority = priority\n",
    "    \n",
    "    def log(self, message):\n",
    "        syslog.syslog(self.priority, message)\n",
    "\n",
    "# Now if we want to add filters, we can create a filtered logger creating a new subclass\n",
    "\n",
    "class FilteredLogger(Logger):\n",
    "    def __init__(self, pattern, file):\n",
    "        self.pattern = pattern\n",
    "        super().__init__(file)\n",
    "    \n",
    "    def log(self, message):\n",
    "        if self.pattern in message:\n",
    "            super().log(message)\n",
    "\n",
    "# call filtered logger\n",
    "f = FilteredLogger('Error', sys.stdout)\n",
    "f.log('Ignored: this is not important')\n",
    "f.log('Error: but you want to see this')"
   ]
  },
  {
   "cell_type": "markdown",
   "metadata": {},
   "source": [
    "#### The problem\n",
    "Now if we need to filter and write then to socket instead of file\n",
    "we cannot, we will need to subclass and create another class with ex: \"FilteredSocketLogger\"\n",
    "\n",
    "Maybe the programmer will get lucky and no further combinations will be needed. But in the general case the application will wind up with 3×2=6 classes:\n",
    "\n",
    "Logger            FilteredLogger\n",
    "SocketLogger      FilteredSocketLogger\n",
    "SyslogLogger      FilteredSyslogLogger\n",
    "\n",
    "The total number of classes will increase geometrically if m and n both continue to grow. \n",
    "This is the “proliferation of classes” and “explosion of subclasses” that the Gang of Four want to avoid.\n",
    "\n",
    "But we can solve this problem."
   ]
  },
  {
   "cell_type": "markdown",
   "metadata": {},
   "source": [
    "# Solution 1: The Adapter Pattern"
   ]
  },
  {
   "cell_type": "markdown",
   "metadata": {},
   "source": [
    "One solution is the Adapter Pattern: to decide that the original logger class doesn’t need to be improved, \n",
    "because any mechanism for outputting messages can be wrapped up to look like the file object that the logger is expecting.\n",
    "\n",
    "* So we keep the original Logger.\n",
    "* And we also keep the FilteredLogger.\n",
    "* But instead of creating destination-specific subclasses, \n",
    "we adapt each destination to the behavior of a file and then pass the adapter to a Logger as its output file."
   ]
  },
  {
   "cell_type": "code",
   "execution_count": 18,
   "metadata": {},
   "outputs": [
    {
     "name": "stdout",
     "output_type": "stream",
     "text": [
      "The socket received: b'Error: message number two\\n'\n"
     ]
    }
   ],
   "source": [
    "import socket\n",
    "\n",
    "class FileLikeSocket:\n",
    "    def __init__(self, sock):\n",
    "        self.sock = sock\n",
    "    \n",
    "    def write(self, message):\n",
    "        self.sock.sendall(message.encode('ascii'))\n",
    "    \n",
    "    def flush(self):\n",
    "        pass\n",
    "\n",
    "class FileLikeSyslog:\n",
    "    def __init__(self, priority):\n",
    "        self.priority = priority\n",
    "    \n",
    "    def write(self, message):\n",
    "        syslog.syslog(self.priority, message)\n",
    "    \n",
    "    def flush(self):\n",
    "        pass\n",
    "\n",
    "# create \n",
    "sock1, sock2 = socket.socketpair()\n",
    "\n",
    "fs = FileLikeSocket(sock1)\n",
    "logger = FilteredLogger(file=fs, pattern='Error')\n",
    "logger.log('Warning: message number one')\n",
    "logger.log('Error: message number two')\n",
    "\n",
    "print('The socket received: %r' % sock2.recv(512))"
   ]
  },
  {
   "cell_type": "markdown",
   "metadata": {},
   "source": [
    "We can see that using adapter patter we can avoid subclass explosion. \n",
    "Logger object and adapter object can easily mixed and matched at the runtime without need to create any further subclass."
   ]
  },
  {
   "cell_type": "code",
   "execution_count": null,
   "metadata": {},
   "outputs": [],
   "source": []
  }
 ],
 "metadata": {
  "kernelspec": {
   "display_name": "Python 3.9.13 ('nn')",
   "language": "python",
   "name": "python3"
  },
  "language_info": {
   "codemirror_mode": {
    "name": "ipython",
    "version": 3
   },
   "file_extension": ".py",
   "mimetype": "text/x-python",
   "name": "python",
   "nbconvert_exporter": "python",
   "pygments_lexer": "ipython3",
   "version": "3.9.13"
  },
  "orig_nbformat": 4,
  "vscode": {
   "interpreter": {
    "hash": "281fcde91fb88b4c837c416e9cdf243b135f0122883c16601caefb6ba2ef0a76"
   }
  }
 },
 "nbformat": 4,
 "nbformat_minor": 2
}
